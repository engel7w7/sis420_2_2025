{
  "cells": [
    {
      "cell_type": "markdown",
      "metadata": {
        "id": "kocg4EwqNDwP"
      },
      "source": [
        "# Laboratorio Regresión Lineal Multiple, regresión polinomica y  calculo por la ecuación de la normal\n",
        "\n",
        "---\n",
        "\n"
      ]
    },
    {
      "cell_type": "markdown",
      "metadata": {
        "id": "eMkTqC8VP0gl"
      },
      "source": [
        "# Regresión Lineal Multiple\n",
        "\n",
        "---\n",
        "\n"
      ]
    },
    {
      "cell_type": "markdown",
      "metadata": {
        "id": "6Pdg3wsneTtf"
      },
      "source": [
        "La regresión lineal múltiple consiste en modelar una variable dependiente como combinación lineal de varias variables independientes. Este modelo permite evaluar cómo cada variable influye en el resultado final y se ajusta utilizando el descenso de gradiente para minimizar el error cuadrático medio."
      ]
    },
    {
      "cell_type": "code",
      "execution_count": 159,
      "metadata": {
        "id": "LIMKPuW2zlv8"
      },
      "outputs": [],
      "source": [
        "# utilizado para manejos de directorios y rutas\n",
        "import os\n",
        "\n",
        "# Computacion vectorial y cientifica para python\n",
        "import numpy as np\n",
        "import pandas as pd\n",
        "\n",
        "# Librerias para graficación (trazado de gráficos)\n",
        "from matplotlib import pyplot\n",
        "from mpl_toolkits.mplot3d import Axes3D  # Necesario para graficar superficies 3D\n",
        "\n",
        "# llama a matplotlib a embeber graficas dentro de los cuadernillos\n",
        "%matplotlib inline"
      ]
    },
    {
      "cell_type": "code",
      "execution_count": null,
      "metadata": {
        "colab": {
          "base_uri": "https://localhost:8080/"
        },
        "id": "9Y-EnbmaNDba",
        "outputId": "11a8d3fb-ef8d-4d55-a3f2-fb1e046c79a9"
      },
      "outputs": [
        {
          "name": "stdout",
          "output_type": "stream",
          "text": [
            "Drive already mounted at /content/drive; to attempt to forcibly remount, call drive.mount(\"/content/drive\", force_remount=True).\n"
          ]
        }
      ],
      "source": [
        "#from google.colab import drive\n",
        "#drive.mount(\"/content/drive\")"
      ]
    },
    {
      "cell_type": "code",
      "execution_count": null,
      "metadata": {
        "colab": {
          "base_uri": "https://localhost:8080/"
        },
        "id": "VYLatzV2ODd_",
        "outputId": "4cb58450-e9e5-43be-d826-a7b7e863461a"
      },
      "outputs": [
        {
          "name": "stdout",
          "output_type": "stream",
          "text": [
            "10100\n"
          ]
        }
      ],
      "source": [
        "# Cargar datos\n",
        "#data = pd.read_csv('/content/drive/MyDrive/sis420/machine_learning/datasets/PRSA_data_2010_1_1_2014_12_31.csv')\n",
        "data = pd.read_csv('PRSA_data_2010_1_1_2014_12_31.csv')\n",
        "\n",
        "data = data[['year', 'month', 'day', 'hour', 'DEWP', 'TEMP', 'PRES', 'Iws', 'Is', 'Ir', 'pm2.5']]\n",
        "data = data.dropna(subset=['pm2.5'])\n",
        "data =data.head(10100)\n",
        "X = data[['year', 'month', 'day', 'hour', 'DEWP', 'TEMP',\n",
        "          'PRES', 'Iws', 'Is', 'Ir']]\n",
        "y = data['pm2.5']\n",
        "m = y.size\n",
        "print(m)"
      ]
    },
    {
      "cell_type": "markdown",
      "metadata": {
        "id": "c02u_A3LX2Lp"
      },
      "source": [
        "Normalización de valores"
      ]
    },
    {
      "cell_type": "markdown",
      "metadata": {
        "id": "eDgXiTk1eb3A"
      },
      "source": [
        "Antes de entrenar el modelo, es necesario normalizar las variables de entrada para que todas estén en un rango similar. De esta forma se evitan problemas de convergencia, ya que los parámetros se actualizan de manera más equilibrada y el descenso de gradiente no se ve afectado por diferencias de escala entre las variables"
      ]
    },
    {
      "cell_type": "code",
      "execution_count": 162,
      "metadata": {
        "id": "TIUuARxYX-1x"
      },
      "outputs": [],
      "source": [
        "def  featureNormalize(X):\n",
        "\n",
        "    X_norm = X.copy()\n",
        "    mu = np.zeros(X.shape[1])\n",
        "    sigma = np.zeros(X.shape[1])\n",
        "\n",
        "    mu = np.mean(X, axis = 0)\n",
        "    sigma = np.std(X, axis = 0)\n",
        "    X_norm = (X - mu) / sigma\n",
        "\n",
        "    return X_norm, mu, sigma"
      ]
    },
    {
      "cell_type": "code",
      "execution_count": 163,
      "metadata": {
        "colab": {
          "base_uri": "https://localhost:8080/"
        },
        "id": "KiRS7VvJYAkI",
        "outputId": "93bbf49a-7749-4c7d-a1f0-57ca4a3eeac1"
      },
      "outputs": [
        {
          "name": "stdout",
          "output_type": "stream",
          "text": [
            "       year  month  day  hour  DEWP  TEMP    PRES    Iws  Is  Ir\n",
            "24     2010      1    2     0   -16  -4.0  1020.0   1.79   0   0\n",
            "25     2010      1    2     1   -15  -4.0  1020.0   2.68   0   0\n",
            "26     2010      1    2     2   -11  -5.0  1021.0   3.57   0   0\n",
            "27     2010      1    2     3    -7  -5.0  1022.0   5.36   1   0\n",
            "28     2010      1    2     4    -7  -5.0  1022.0   6.25   2   0\n",
            "...     ...    ...  ...   ...   ...   ...     ...    ...  ..  ..\n",
            "10957  2011      4    2    13   -12  13.0  1029.0   8.50   0   0\n",
            "10958  2011      4    2    14   -13  13.0  1028.0  11.63   0   0\n",
            "10959  2011      4    2    15   -12  13.0  1026.0  13.42   0   0\n",
            "10960  2011      4    2    16   -12  14.0  1026.0  15.21   0   0\n",
            "10961  2011      4    2    17   -10  14.0  1025.0   3.13   0   0\n",
            "\n",
            "[10100 rows x 10 columns]\n",
            "Media calculada: year     2010.198911\n",
            "month       5.603960\n",
            "day        15.534059\n",
            "hour       11.497129\n",
            "DEWP       -1.712871\n",
            "TEMP        9.106832\n",
            "PRES     1018.353317\n",
            "Iws        31.820803\n",
            "Is          0.099307\n",
            "Ir          0.217822\n",
            "dtype: float64\n",
            "Desviación estandar calculada: year      0.399181\n",
            "month     3.611311\n",
            "day       8.720882\n",
            "hour      6.923764\n",
            "DEWP     14.706041\n",
            "TEMP     12.585878\n",
            "PRES     10.142744\n",
            "Iws      59.850069\n",
            "Is        1.116279\n",
            "Ir        1.649386\n",
            "dtype: float64\n",
            "           year     month       day      hour      DEWP      TEMP      PRES  \\\n",
            "24    -0.498298 -1.274872 -1.551914 -1.660532 -0.971514 -1.041392  0.162351   \n",
            "25    -0.498298 -1.274872 -1.551914 -1.516101 -0.903515 -1.041392  0.162351   \n",
            "26    -0.498298 -1.274872 -1.551914 -1.371671 -0.631518 -1.120846  0.260944   \n",
            "27    -0.498298 -1.274872 -1.551914 -1.227241 -0.359521 -1.120846  0.359536   \n",
            "28    -0.498298 -1.274872 -1.551914 -1.082811 -0.359521 -1.120846  0.359536   \n",
            "...         ...       ...       ...       ...       ...       ...       ...   \n",
            "10957  2.006833 -0.444149 -1.551914  0.217060 -0.699517  0.309328  1.049685   \n",
            "10958  2.006833 -0.444149 -1.551914  0.361490 -0.767516  0.309328  0.951092   \n",
            "10959  2.006833 -0.444149 -1.551914  0.505920 -0.699517  0.309328  0.753907   \n",
            "10960  2.006833 -0.444149 -1.551914  0.650350 -0.699517  0.388782  0.753907   \n",
            "10961  2.006833 -0.444149 -1.551914  0.794780 -0.563519  0.388782  0.655314   \n",
            "\n",
            "            Iws        Is        Ir  \n",
            "24    -0.501767 -0.088962 -0.132062  \n",
            "25    -0.486897 -0.088962 -0.132062  \n",
            "26    -0.472026 -0.088962 -0.132062  \n",
            "27    -0.442118  0.806871 -0.132062  \n",
            "28    -0.427248  1.702704 -0.132062  \n",
            "...         ...       ...       ...  \n",
            "10957 -0.389654 -0.088962 -0.132062  \n",
            "10958 -0.337356 -0.088962 -0.132062  \n",
            "10959 -0.307448 -0.088962 -0.132062  \n",
            "10960 -0.277540 -0.088962 -0.132062  \n",
            "10961 -0.479378 -0.088962 -0.132062  \n",
            "\n",
            "[10100 rows x 10 columns]\n"
          ]
        }
      ],
      "source": [
        "# llama featureNormalize con los datos cargados\n",
        "X_norm, mu, sigma = featureNormalize(X)\n",
        "\n",
        "print(X)\n",
        "print('Media calculada:', mu)\n",
        "print('Desviación estandar calculada:', sigma)\n",
        "print(X_norm)"
      ]
    },
    {
      "cell_type": "markdown",
      "metadata": {
        "id": "_PtGFDv5YS3J"
      },
      "source": [
        "Se añade el temino de interseccion a X_norm:"
      ]
    },
    {
      "cell_type": "markdown",
      "metadata": {
        "id": "JYaX0_Ixeg8P"
      },
      "source": [
        "En los modelos de regresión se incluye un término adicional llamado sesgo o intercepto. Este valor permite que la recta o hiperplano resultante no esté obligado a pasar por el origen, lo que mejora la capacidad de ajuste del modelo a los datos reales"
      ]
    },
    {
      "cell_type": "code",
      "execution_count": 164,
      "metadata": {
        "id": "6Ys7XcNsYaEo"
      },
      "outputs": [],
      "source": [
        "# Añade el termino de interseccion a X\n",
        "# (Columna de unos para X0)\n",
        "X = np.concatenate([np.ones((m, 1)), X_norm], axis=1)"
      ]
    },
    {
      "cell_type": "code",
      "execution_count": 165,
      "metadata": {
        "colab": {
          "base_uri": "https://localhost:8080/"
        },
        "id": "L7JxLP4jYdaq",
        "outputId": "1d9f5b2c-cea1-4e16-8e17-65ae45ae87ca"
      },
      "outputs": [
        {
          "name": "stdout",
          "output_type": "stream",
          "text": [
            "[[ 1.         -0.49829768 -1.27487224 ... -0.50176723 -0.08896247\n",
            "  -0.13206234]\n",
            " [ 1.         -0.49829768 -1.27487224 ... -0.48689673 -0.08896247\n",
            "  -0.13206234]\n",
            " [ 1.         -0.49829768 -1.27487224 ... -0.47202624 -0.08896247\n",
            "  -0.13206234]\n",
            " ...\n",
            " [ 1.          2.00683253 -0.44414904 ... -0.30744832 -0.08896247\n",
            "  -0.13206234]\n",
            " [ 1.          2.00683253 -0.44414904 ... -0.27754025 -0.08896247\n",
            "  -0.13206234]\n",
            " [ 1.          2.00683253 -0.44414904 ... -0.47937794 -0.08896247\n",
            "  -0.13206234]]\n"
          ]
        }
      ],
      "source": [
        "print(X)"
      ]
    },
    {
      "cell_type": "markdown",
      "metadata": {
        "id": "ZVzEGa0-Yjsg"
      },
      "source": [
        "Descenso por el gradiente"
      ]
    },
    {
      "cell_type": "markdown",
      "metadata": {
        "id": "UuOFIvbWeld-"
      },
      "source": [
        "El descenso de gradiente es el algoritmo de optimización que ajusta los parámetros del modelo de manera iterativa. En cada paso se calcula la dirección en la que el error disminuye más rápidamente y se actualizan los valores de los parámetros en esa dirección. El proceso se repite hasta alcanzar un valor mínimo de la función de costo"
      ]
    },
    {
      "cell_type": "code",
      "execution_count": 166,
      "metadata": {
        "id": "8pt_7PPIYl7h"
      },
      "outputs": [],
      "source": [
        "def computeCostMulti(X, y, theta):\n",
        "    # Inicializa algunos valores utiles\n",
        "    m = y.shape[0] # numero de ejemplos de entrenamiento\n",
        "\n",
        "    J = 0\n",
        "\n",
        "    # h = np.dot(X, theta)\n",
        "\n",
        "    J = (1/(2 * m)) * np.sum(np.square(np.dot(X, theta) - y))\n",
        "\n",
        "    return J"
      ]
    },
    {
      "cell_type": "code",
      "execution_count": 167,
      "metadata": {
        "id": "7dGpD7xcYpwI"
      },
      "outputs": [],
      "source": [
        "def gradientDescentMulti(X, y, theta, alpha, num_iters):\n",
        "\n",
        "    # Inicializa algunos valores\n",
        "    m = y.shape[0] # numero de ejemplos de entrenamiento\n",
        "\n",
        "    # realiza una copia de theta, el cual será acutalizada por el descenso por el gradiente\n",
        "\n",
        "    theta = theta.copy()\n",
        "\n",
        "    J_history = []\n",
        "\n",
        "    for i in range(num_iters):\n",
        "        theta = theta - (alpha / m) * (np.dot(X, theta) - y).dot(X)\n",
        "        J_history.append(computeCostMulti(X, y, theta))\n",
        "\n",
        "    return theta, J_history"
      ]
    },
    {
      "cell_type": "markdown",
      "metadata": {
        "id": "3HlhO_zTYtT5"
      },
      "source": [
        "Seleccionar coeficientes de aprendizaje"
      ]
    },
    {
      "cell_type": "markdown",
      "metadata": {
        "id": "YfMZWsPxerLv"
      },
      "source": [
        "La tasa de aprendizaje es un parámetro clave del descenso de gradiente. Si es demasiado alta, el algoritmo puede no converger; si es demasiado baja, el ajuste será muy lento. En este paso se prueban diferentes valores para observar cómo afectan la rapidez y estabilidad de la convergencia del modelo"
      ]
    },
    {
      "cell_type": "code",
      "execution_count": 168,
      "metadata": {
        "colab": {
          "base_uri": "https://localhost:8080/",
          "height": 1000
        },
        "id": "TYeT2-oHYwA4",
        "outputId": "d264da96-cdd1-4f82-bb80-fa9128830647"
      },
      "outputs": [
        {
          "data": {
            "image/png": "[encoded data removed]",
            "text/plain": [
              "<Figure size 640x480 with 1 Axes>"
            ]
          },
          "metadata": {},
          "output_type": "display_data"
        },
        {
          "name": "stdout",
          "output_type": "stream",
          "text": [
            "Real: 42.00 | Predicho: 48.55\n",
            "Real: 51.00 | Predicho: 57.73\n",
            "Real: 60.00 | Predicho: 107.11\n",
            "Real: 65.00 | Predicho: 114.99\n",
            "Real: 61.00 | Predicho: 118.77\n",
            "Real: 56.00 | Predicho: 126.84\n",
            "Real: 69.00 | Predicho: 100.66\n",
            "Real: 76.00 | Predicho: 109.02\n",
            "Real: 58.00 | Predicho: 123.52\n",
            "Real: 64.00 | Predicho: 131.15\n",
            "Real: 79.00 | Predicho: 137.92\n",
            "Real: 100.00 | Predicho: 139.20\n",
            "Real: 128.00 | Predicho: 148.03\n",
            "Real: 110.00 | Predicho: 150.61\n",
            "Real: 116.00 | Predicho: 110.03\n",
            "Real: 97.00 | Predicho: 96.09\n",
            "Real: 99.00 | Predicho: 86.73\n",
            "Real: 107.00 | Predicho: 79.28\n",
            "Real: 101.00 | Predicho: 57.82\n",
            "Real: 94.00 | Predicho: 34.30\n",
            "Real: 70.00 | Predicho: -2.22\n",
            "Real: 49.00 | Predicho: -0.85\n",
            "Real: 59.00 | Predicho: 4.05\n",
            "Real: 60.00 | Predicho: 6.72\n",
            "Real: 51.00 | Predicho: 19.99\n",
            "Real: 55.00 | Predicho: 28.06\n",
            "Real: 73.00 | Predicho: 30.73\n",
            "Real: 70.00 | Predicho: 47.00\n",
            "Real: 67.00 | Predicho: 52.81\n",
            "Real: 64.00 | Predicho: 94.72\n",
            "Real: 75.00 | Predicho: 93.88\n",
            "Real: 87.00 | Predicho: 102.52\n",
            "Real: 96.00 | Predicho: 129.81\n",
            "Real: 103.00 | Predicho: 136.68\n",
            "Real: 115.00 | Predicho: 143.36\n",
            "Real: 112.00 | Predicho: 148.57\n",
            "Real: 95.00 | Predicho: 143.69\n",
            "Real: 87.00 | Predicho: 112.55\n",
            "Real: 95.00 | Predicho: 99.28\n",
            "Real: 123.00 | Predicho: 86.20\n",
            "Real: 136.00 | Predicho: 66.04\n",
            "Real: 143.00 | Predicho: 61.89\n",
            "Real: 152.00 | Predicho: 45.25\n",
            "Real: 132.00 | Predicho: 25.95\n",
            "Real: 104.00 | Predicho: 12.58\n",
            "Real: 84.00 | Predicho: 9.82\n",
            "Real: 66.00 | Predicho: 21.41\n",
            "Real: 50.00 | Predicho: 22.29\n",
            "Real: 57.00 | Predicho: 37.64\n",
            "Real: 77.00 | Predicho: 72.73\n",
            "Real: 148.00 | Predicho: 99.97\n",
            "Real: 204.00 | Predicho: 135.47\n",
            "Real: 212.00 | Predicho: 127.60\n",
            "Real: 188.00 | Predicho: 98.35\n",
            "Real: 179.00 | Predicho: 110.91\n",
            "Real: 166.00 | Predicho: 118.97\n",
            "Real: 168.00 | Predicho: 124.77\n",
            "Real: 295.00 | Predicho: 177.10\n",
            "Real: 328.00 | Predicho: 154.24\n",
            "Real: 287.00 | Predicho: 155.04\n",
            "Real: 222.00 | Predicho: 79.28\n",
            "Real: 147.00 | Predicho: 54.58\n",
            "Real: 51.00 | Predicho: 52.76\n",
            "Real: 23.00 | Predicho: 45.99\n",
            "Real: 19.00 | Predicho: 48.91\n",
            "Real: 18.00 | Predicho: 46.62\n",
            "Real: 15.00 | Predicho: 27.75\n",
            "Real: 18.00 | Predicho: 25.27\n",
            "Real: 25.00 | Predicho: 15.70\n",
            "Real: 17.00 | Predicho: 6.14\n",
            "Real: 18.00 | Predicho: -11.33\n",
            "Real: 20.00 | Predicho: -21.52\n",
            "Real: 17.00 | Predicho: -26.32\n",
            "Real: 15.00 | Predicho: -21.81\n",
            "Real: 16.00 | Predicho: 32.41\n",
            "Real: 23.00 | Predicho: 51.62\n",
            "Real: 34.00 | Predicho: 69.53\n",
            "Real: 19.00 | Predicho: 88.33\n",
            "Real: 25.00 | Predicho: 107.11\n",
            "Real: 33.00 | Predicho: 113.50\n",
            "Real: 36.00 | Predicho: 110.24\n",
            "Real: 33.00 | Predicho: 100.72\n",
            "Real: 23.00 | Predicho: 98.23\n",
            "Real: 30.00 | Predicho: 106.15\n",
            "Real: 48.00 | Predicho: 116.06\n",
            "Real: 44.00 | Predicho: 111.65\n",
            "Real: 56.00 | Predicho: 112.26\n",
            "Real: 46.00 | Predicho: 113.05\n",
            "Real: 32.00 | Predicho: 115.91\n",
            "Real: 54.00 | Predicho: 110.55\n",
            "Real: 89.00 | Predicho: 102.01\n",
            "Real: 79.00 | Predicho: 67.24\n",
            "Real: 45.00 | Predicho: 34.55\n",
            "Real: 68.00 | Predicho: 32.45\n",
            "Real: 158.00 | Predicho: 26.93\n",
            "Real: 178.00 | Predicho: -3.27\n",
            "Real: 63.00 | Predicho: -3.58\n",
            "Real: 108.00 | Predicho: 10.90\n",
            "Real: 92.00 | Predicho: 4.72\n",
            "Real: 127.00 | Predicho: 23.29\n",
            "MSE últimos 100: 3995.201297901166\n",
            "R² últimos 100: -0.04533610046096537\n"
          ]
        }
      ],
      "source": [
        "# Elegir algun valor para alpha (probar varias alternativas)\n",
        "alpha = 0.002  # también puedes probar alpha = 0.003\n",
        "num_iters = 30000\n",
        "\n",
        "# Asegurar que X tiene la columna de 1s (bias)\n",
        "X = np.concatenate([np.ones((X.shape[0], 1)), X], axis=1)\n",
        "\n",
        "# inicializa theta y ejecuta el descenso por el gradiente\n",
        "theta = np.zeros(X.shape[1])  # ahora coincide con el número de columnas\n",
        "theta, J_history = gradientDescentMulti(X, y, theta, alpha, num_iters)\n",
        "\n",
        "pyplot.plot(np.arange(len(J_history)), J_history, lw=2)\n",
        "pyplot.xlabel('Número de iteraciones')\n",
        "pyplot.ylabel('Costo J')\n",
        "pyplot.show()\n",
        "\n",
        "# === ESTIMAR para los últimos 100 valores de tu dataset ===\n",
        "X_last = X[-100:]\n",
        "y_last = y[-100:]\n",
        "y_pred_last = X_last.dot(theta)\n",
        "\n",
        "# Mostrar comparaciones de los primeros 100\n",
        "for real, pred in zip(y_last[:100], y_pred_last[:100]):\n",
        "    print(f\"Real: {real:.2f} | Predicho: {pred:.2f}\")\n",
        "\n",
        "# Calcular MSE manualmente\n",
        "errors = y_last - y_pred_last\n",
        "mse = np.mean(errors ** 2)\n",
        "\n",
        "# Calcular R² manualmente\n",
        "ss_res = np.sum(errors ** 2)                              # suma de residuos al cuadrado\n",
        "ss_tot = np.sum((y_last - np.mean(y_last)) ** 2)          # suma total de cuadrados\n",
        "r2 = 1 - (ss_res / ss_tot)\n",
        "\n",
        "print(\"MSE últimos 100:\", mse)\n",
        "print(\"R² últimos 100:\", r2)"
      ]
    },
    {
      "cell_type": "markdown",
      "metadata": {
        "id": "pyF6AUb1aeFJ"
      },
      "source": [
        "#Ecuación de la normal\n",
        "\n",
        "---"
      ]
    },
    {
      "cell_type": "markdown",
      "metadata": {
        "id": "VYRlpMDgev-n"
      },
      "source": [
        "La ecuación de la normal ofrece una solución directa al problema de regresión lineal múltiple sin necesidad de iteraciones. Mediante operaciones matriciales se obtiene un conjunto de parámetros que minimizan el error cuadrático medio. Aunque este método evita el descenso de gradiente, puede ser computacionalmente costoso en conjuntos de datos muy grandes"
      ]
    },
    {
      "cell_type": "code",
      "execution_count": 169,
      "metadata": {
        "colab": {
          "base_uri": "https://localhost:8080/"
        },
        "id": "2LLs7TZoagAR",
        "outputId": "77919ac5-966e-41e7-c83b-59416cc22902"
      },
      "outputs": [
        {
          "name": "stdout",
          "output_type": "stream",
          "text": [
            "41757\n"
          ]
        }
      ],
      "source": [
        "# Cargar datos\n",
        "data = pd.read_csv('/content/drive/MyDrive/sis420/machine_learning/datasets/PRSA_data_2010_1_1_2014_12_31.csv')\n",
        "\n",
        "data = data[['year', 'month', 'day', 'hour', 'DEWP', 'TEMP', 'PRES', 'Iws', 'Is', 'Ir', 'pm2.5']]\n",
        "data = data.dropna(subset=['pm2.5'])\n",
        "X = data[['year', 'month', 'day', 'hour', 'DEWP', 'TEMP',\n",
        "          'PRES', 'Iws', 'Is', 'Ir']]\n",
        "y = data['pm2.5']\n",
        "m = y.size\n",
        "print(m)\n",
        "X = np.concatenate([np.ones((m, 1)), X], axis=1)"
      ]
    },
    {
      "cell_type": "code",
      "execution_count": 170,
      "metadata": {
        "id": "tBdkhJIWa2Jo"
      },
      "outputs": [],
      "source": [
        "def normalEqn(X, y):\n",
        "\n",
        "    theta = np.zeros(X.shape[1])\n",
        "\n",
        "    theta = np.dot(np.dot(np.linalg.inv(np.dot(X.T,X)),X.T),y)\n",
        "\n",
        "    return theta"
      ]
    },
    {
      "cell_type": "code",
      "execution_count": 171,
      "metadata": {
        "colab": {
          "base_uri": "https://localhost:8080/"
        },
        "id": "6L_IQT27a2sg",
        "outputId": "bed8d5c7-8a57-4c33-d888-aca4d04afdfd"
      },
      "outputs": [
        {
          "name": "stdout",
          "output_type": "stream",
          "text": [
            "Theta calculado a partir de la ecuación de la normal: [-37.07815439   0.87383715  -1.4691313    0.78349189   1.6422183\n",
            "   4.75278281  -6.61575085  -1.53753555  -0.25076471  -2.79595532\n",
            "  -7.34534925]\n",
            "Real: 349.00 | Predicho: 157.86\n",
            "Real: 327.00 | Predicho: 165.90\n",
            "Real: 348.00 | Predicho: 178.36\n",
            "Real: 363.00 | Predicho: 176.89\n",
            "Real: 385.00 | Predicho: 146.41\n",
            "Real: 393.00 | Predicho: 137.58\n",
            "Real: 388.00 | Predicho: 137.03\n",
            "Real: 444.00 | Predicho: 134.67\n",
            "Real: 334.00 | Predicho: 143.68\n",
            "Real: 284.00 | Predicho: 144.87\n"
          ]
        }
      ],
      "source": [
        "# Calcula los parametros con la ecuación de la normal\n",
        "theta = normalEqn(X, y);\n",
        "\n",
        "# Muestra los resultados optenidos a partir de la aplicación de la ecuación de la normal\n",
        "print('Theta calculado a partir de la ecuación de la normal: {:s}'.format(str(theta)));\n",
        "\n",
        "# Estimar pm2.5 para los últimos 100 registros\n",
        "X_array = X[-100:]          # últimos 100 registros\n",
        "y_pred_last = np.dot(X_array, theta)\n",
        "\n",
        "# Mostrar primeras 10 predicciones\n",
        "for i in range(10):\n",
        "    print(f\"Real: {y.values[-100:][i]:.2f} | Predicho: {y_pred_last[i]:.2f}\")"
      ]
    },
    {
      "cell_type": "markdown",
      "metadata": {
        "id": "4pdFdmi9fPap"
      },
      "source": [
        "#Regresión Polinómica\n",
        "\n",
        "---\n",
        "\n"
      ]
    },
    {
      "cell_type": "markdown",
      "metadata": {
        "id": "ZTX1qz6cezdg"
      },
      "source": [
        "La regresión polinómica amplía el modelo lineal al incluir potencias de las variables originales. Esto permite capturar relaciones no lineales y obtener un ajuste más flexible cuando los datos no siguen un patrón lineal simple. El procedimiento de entrenamiento es similar al de la regresión múltiple, pero considerando estos nuevos términos en la matriz de entrada"
      ]
    },
    {
      "cell_type": "code",
      "execution_count": 172,
      "metadata": {
        "colab": {
          "base_uri": "https://localhost:8080/"
        },
        "id": "qLj2pKF1fc7h",
        "outputId": "0f8bb1b9-6b2e-4f5e-d280-c966e5a65199"
      },
      "outputs": [
        {
          "name": "stdout",
          "output_type": "stream",
          "text": [
            "41757\n"
          ]
        }
      ],
      "source": [
        "# Cargar datos\n",
        "data = pd.read_csv('/content/drive/MyDrive/sis420/machine_learning/datasets/PRSA_data_2010_1_1_2014_12_31.csv')\n",
        "\n",
        "data = data[['year', 'month', 'day', 'hour', 'DEWP', 'TEMP', 'PRES', 'Iws', 'Is', 'Ir', 'pm2.5']]\n",
        "data = data.dropna(subset=['pm2.5'])\n",
        "X = data[['year', 'month', 'day', 'hour', 'DEWP', 'TEMP',\n",
        "          'PRES', 'Iws', 'Is', 'Ir']]\n",
        "y = data['pm2.5']\n",
        "m = y.size\n",
        "print(m)"
      ]
    },
    {
      "cell_type": "code",
      "execution_count": 173,
      "metadata": {
        "id": "P-MIxlB9liJC"
      },
      "outputs": [],
      "source": [
        "X = np.concatenate([X, X*X], axis=1)  # ahora cada feature tiene su cuadrado\n"
      ]
    },
    {
      "cell_type": "code",
      "execution_count": 174,
      "metadata": {
        "colab": {
          "base_uri": "https://localhost:8080/"
        },
        "id": "bCVzEsDCN1mF",
        "outputId": "63820493-ef58-495a-daa3-6c5ecf1d1c3d"
      },
      "outputs": [
        {
          "name": "stdout",
          "output_type": "stream",
          "text": [
            "[[2.01000000e+03 1.00000000e+00 2.00000000e+00 ... 3.20410000e+00\n",
            "  0.00000000e+00 0.00000000e+00]\n",
            " [2.01000000e+03 1.00000000e+00 2.00000000e+00 ... 7.18240000e+00\n",
            "  0.00000000e+00 0.00000000e+00]\n",
            " [2.01000000e+03 1.00000000e+00 2.00000000e+00 ... 1.27449000e+01\n",
            "  0.00000000e+00 0.00000000e+00]\n",
            " ...\n",
            " [2.01400000e+03 1.20000000e+01 3.10000000e+01 ... 5.89032900e+04\n",
            "  0.00000000e+00 0.00000000e+00]\n",
            " [2.01400000e+03 1.20000000e+01 3.10000000e+01 ... 6.08707584e+04\n",
            "  0.00000000e+00 0.00000000e+00]\n",
            " [2.01400000e+03 1.20000000e+01 3.10000000e+01 ... 6.24250225e+04\n",
            "  0.00000000e+00 0.00000000e+00]]\n"
          ]
        }
      ],
      "source": [
        "print(X)"
      ]
    },
    {
      "cell_type": "code",
      "execution_count": 175,
      "metadata": {
        "id": "e44pawIYN30m"
      },
      "outputs": [],
      "source": [
        "def  featureNormalize(X):\n",
        "    X_norm = X.copy()\n",
        "    mu = np.zeros(X.shape[1])\n",
        "    sigma = np.zeros(X.shape[1])\n",
        "\n",
        "    mu = np.mean(X, axis = 0)\n",
        "    sigma = np.std(X, axis = 0)\n",
        "    X_norm = (X - mu) / sigma\n",
        "\n",
        "    return X_norm, mu, sigma"
      ]
    },
    {
      "cell_type": "code",
      "execution_count": 176,
      "metadata": {
        "id": "43owclLON5y9"
      },
      "outputs": [],
      "source": [
        "# llama featureNormalize con los datos cargados\n",
        "X_norm, mu, sigma = featureNormalize(X)\n",
        "\n",
        "#print(X)\n",
        "#print('Media calculada:', mu)\n",
        "#print('Desviación estandar calculada:', sigma)\n",
        "#print(X_norm)"
      ]
    },
    {
      "cell_type": "code",
      "execution_count": 177,
      "metadata": {
        "colab": {
          "base_uri": "https://localhost:8080/"
        },
        "id": "vzFCwut7N8Td",
        "outputId": "1ee9c7db-98eb-4f17-a6ef-e5cab124a773"
      },
      "outputs": [
        {
          "name": "stdout",
          "output_type": "stream",
          "text": [
            "[[-1.44335511 -1.59626706 -1.55775043 ... -0.21233619 -0.04818368\n",
            "  -0.07460732]\n",
            " [-1.44335511 -1.59626706 -1.55775043 ... -0.21205724 -0.04818368\n",
            "  -0.07460732]\n",
            " [-1.44335511 -1.59626706 -1.55775043 ... -0.21166721 -0.04818368\n",
            "  -0.07460732]\n",
            " ...\n",
            " [ 1.38291355  1.58830091  1.74316783 ...  3.91764043 -0.04818368\n",
            "  -0.07460732]\n",
            " [ 1.38291355  1.58830091  1.74316783 ...  4.05559606 -0.04818368\n",
            "  -0.07460732]\n",
            " [ 1.38291355  1.58830091  1.74316783 ...  4.16457849 -0.04818368\n",
            "  -0.07460732]]\n"
          ]
        }
      ],
      "source": [
        "print(X_norm)"
      ]
    },
    {
      "cell_type": "code",
      "execution_count": 178,
      "metadata": {
        "id": "qpM9zf5nOAJd"
      },
      "outputs": [],
      "source": [
        "# Añade el termino de interseccion a X\n",
        "# (Columna de unos para X0)\n",
        "#X_norm = np.concatenate([X_norm, X_norm * X_norm], axis=1)\n",
        "X = np.concatenate([np.ones((m, 1)), X_norm], axis=1)"
      ]
    },
    {
      "cell_type": "markdown",
      "metadata": {
        "id": "AaEbReOiOEQ9"
      },
      "source": [
        "Descenso por el gradiente"
      ]
    },
    {
      "cell_type": "markdown",
      "metadata": {
        "id": "RS3KKqwVe57U"
      },
      "source": [
        "De la misma forma que en la regresión múltiple, se aplica el descenso de gradiente para ajustar los parámetros del modelo polinómico. El error se va reduciendo con cada iteración, logrando que la curva ajustada se acerque lo más posible a los valores reales observados en el conjunto de datos"
      ]
    },
    {
      "cell_type": "code",
      "execution_count": 179,
      "metadata": {
        "id": "aAaYLbmROG4X"
      },
      "outputs": [],
      "source": [
        "def computeCostMulti(X, y, theta):\n",
        "    # Inicializa algunos valores utiles\n",
        "    m = y.shape[0] # numero de ejemplos de entrenamiento\n",
        "\n",
        "    J = 0\n",
        "\n",
        "    h = np.dot(X, theta)\n",
        "\n",
        "    J = (1/(2 * m)) * np.sum(np.square(np.dot(X, theta) - y))\n",
        "\n",
        "    return J\n"
      ]
    },
    {
      "cell_type": "code",
      "execution_count": 180,
      "metadata": {
        "id": "O7pE7CEmOHtd"
      },
      "outputs": [],
      "source": [
        "def gradientDescentMulti(X, y, theta, alpha, num_iters):\n",
        "\n",
        "    # Inicializa algunos valores\n",
        "    m = y.shape[0] # numero de ejemplos de entrenamiento\n",
        "\n",
        "    # realiza una copia de theta, el cual será acutalizada por el descenso por el gradiente\n",
        "    theta = theta.copy()\n",
        "\n",
        "    J_history = []\n",
        "\n",
        "    for i in range(num_iters):\n",
        "        theta = theta - (alpha / m) * (np.dot(X, theta) - y).dot(X)\n",
        "        J_history.append(computeCostMulti(X, y, theta))\n",
        "\n",
        "    return theta, J_history"
      ]
    },
    {
      "cell_type": "code",
      "execution_count": 181,
      "metadata": {
        "colab": {
          "base_uri": "https://localhost:8080/",
          "height": 721
        },
        "id": "5GDTwir-OJa1",
        "outputId": "a44b5b3e-369e-48d7-bd94-634cbddfdaff"
      },
      "outputs": [
        {
          "name": "stdout",
          "output_type": "stream",
          "text": [
            "theta calculado por el descenso por el gradiente: [ 98.61321455   0.14383242 -52.77434309   9.84774416  18.15143164\n",
            "  71.12807789 -69.87566216  -7.81892337 -24.13811205  -3.66947757\n",
            " -16.81760551   0.19265488  46.51043701  -3.73308137  -8.09931383\n",
            " -12.24674174  -2.33520281  -9.62144708  15.55783046   1.02030681\n",
            "   7.94740147]\n",
            "Real: 349.00 | Predicho: 162.87\n",
            "Real: 327.00 | Predicho: 168.74\n",
            "Real: 348.00 | Predicho: 182.49\n",
            "Real: 363.00 | Predicho: 176.18\n",
            "Real: 385.00 | Predicho: 147.72\n",
            "Real: 393.00 | Predicho: 143.00\n",
            "Real: 388.00 | Predicho: 145.20\n",
            "Real: 444.00 | Predicho: 141.73\n",
            "Real: 334.00 | Predicho: 149.92\n",
            "Real: 284.00 | Predicho: 151.27\n"
          ]
        },
        {
          "data": {
            "image/png": "[encoded data removed]",
            "text/plain": [
              "<Figure size 640x480 with 1 Axes>"
            ]
          },
          "metadata": {},
          "output_type": "display_data"
        }
      ],
      "source": [
        "# Elegir algun valor para alpha (probar varias alternativas)\n",
        "alpha = 0.001\n",
        "num_iters = 50000\n",
        "\n",
        "# inicializa theta y ejecuta el descenso por el gradiente\n",
        "theta = np.zeros(X.shape[1])\n",
        "theta, J_history = gradientDescentMulti(X, y, theta, alpha, num_iters)\n",
        "\n",
        "# Grafica la convergencia del costo\n",
        "pyplot.plot(np.arange(len(J_history)), J_history, lw=2)\n",
        "pyplot.xlabel('Numero de iteraciones')\n",
        "pyplot.ylabel('Costo J')\n",
        "\n",
        "# Muestra los resultados del descenso por el gradiente\n",
        "print('theta calculado por el descenso por el gradiente: {:s}'.format(str(theta)))\n",
        "\n",
        "\n",
        "# Estimar pm2.5 para los últimos 100 registros\n",
        "X_array = X[-100:]          # últimos 100 registros\n",
        "y_pred_last = np.dot(X_array, theta)\n",
        "\n",
        "# Mostrar primeras 10 predicciones\n",
        "for i in range(10):\n",
        "    print(f\"Real: {y.values[-100:][i]:.2f} | Predicho: {y_pred_last[i]:.2f}\")"
      ]
    },
    {
      "cell_type": "code",
      "execution_count": 182,
      "metadata": {
        "colab": {
          "base_uri": "https://localhost:8080/",
          "height": 449
        },
        "id": "hcl7EnvhU9B2",
        "outputId": "029c4a23-6f11-4354-e11b-c4114644f985"
      },
      "outputs": [
        {
          "data": {
            "image/png": "[encoded data removed]",
            "text/plain": [
              "<Figure size 640x480 with 1 Axes>"
            ]
          },
          "metadata": {},
          "output_type": "display_data"
        }
      ],
      "source": [
        "def plotPolyDataset(X, y, theta, degree=2):\n",
        "    \"\"\"\n",
        "    Grafica los puntos reales del dataset y la curva polinómica ajustada\n",
        "    sobre la primera característica de X.\n",
        "    \"\"\"\n",
        "    # Tomamos la primera variable de X (excluyendo el 1 de bias si lo tienes)\n",
        "    x_feature = X[:, 1]\n",
        "\n",
        "    pyplot.scatter(x_feature, y, color='red', label=\"Datos reales\", alpha=0.6)\n",
        "\n",
        "    # Generar valores ordenados para la curva\n",
        "    x_plot = np.linspace(min(x_feature), max(x_feature), 300)\n",
        "\n",
        "    # Construir matriz polinómica para x_plot\n",
        "    X_poly = np.ones((len(x_plot), 1))\n",
        "    for d in range(1, degree + 1):\n",
        "        X_poly = np.concatenate([X_poly, (x_plot ** d).reshape(-1, 1)], axis=1)\n",
        "\n",
        "    # Calcular predicciones con theta\n",
        "    y_plot = np.dot(X_poly, theta[:degree+1])\n",
        "\n",
        "    # Dibujar la curva ajustada\n",
        "    pyplot.plot(x_plot, y_plot, 'b-', linewidth=2, label=f'Regresión polinómica (grado {degree})')\n",
        "\n",
        "    pyplot.xlabel(\"Variable X (ej: Edad / Sq-ft / TEMP)\")\n",
        "    pyplot.ylabel(\"PM2.5\")\n",
        "    pyplot.legend()\n",
        "    pyplot.show()\n",
        "\n",
        "# Uso con tu dataset (ejemplo para grado 2)\n",
        "plotPolyDataset(X, y, theta, degree=2)\n"
      ]
    },
    {
      "cell_type": "markdown",
      "metadata": {
        "id": "jmurldzTQDGM"
      },
      "source": [
        "Ecuación de la Normal\n",
        "\n",
        "---\n",
        "\n"
      ]
    },
    {
      "cell_type": "markdown",
      "metadata": {
        "id": "pcs3hVnhfB-3"
      },
      "source": [
        "También es posible aplicar la ecuación de la normal al caso polinómico. El principio es el mismo: calcular de forma matricial los parámetros que minimizan el error. Este método evita las iteraciones, pero al incluir muchos términos polinómicos puede volverse pesado en cuanto a cálculos y memoria"
      ]
    },
    {
      "cell_type": "code",
      "execution_count": 183,
      "metadata": {
        "id": "M4PJdgr5P831"
      },
      "outputs": [],
      "source": [
        "data = pd.read_csv('/content/drive/MyDrive/sis420/machine_learning/datasets/PRSA_data_2010_1_1_2014_12_31.csv')\n",
        "data = data[['year', 'month', 'day', 'hour', 'DEWP', 'TEMP', 'PRES', 'Iws', 'Is', 'Ir', 'pm2.5']]\n",
        "data = data.dropna(subset=['pm2.5'])\n",
        "\n",
        "X = data[['year', 'month', 'day', 'hour', 'DEWP', 'TEMP', 'PRES', 'Iws', 'Is', 'Ir']].values\n",
        "y = data['pm2.5'].values\n",
        "m = y.size\n",
        "\n",
        "X_original = X.copy()\n",
        "X = np.concatenate([X, X * X], axis=1)\n",
        "X = np.concatenate([np.ones((m, 1)), X], axis=1)"
      ]
    },
    {
      "cell_type": "code",
      "execution_count": 184,
      "metadata": {
        "id": "qxO88DEpQRCU"
      },
      "outputs": [],
      "source": [
        "def normalEqn(X, y):\n",
        "\n",
        "    theta = np.zeros(X.shape[1])\n",
        "\n",
        "    theta = np.dot(np.dot(np.linalg.inv(np.dot(X.T,X)),X.T),y)\n",
        "\n",
        "    return theta"
      ]
    },
    {
      "cell_type": "code",
      "execution_count": 185,
      "metadata": {
        "colab": {
          "base_uri": "https://localhost:8080/"
        },
        "id": "0LvM1wB8QTq9",
        "outputId": "3eecebd3-bd0f-49ba-ab61-998258d4f2db"
      },
      "outputs": [
        {
          "name": "stdout",
          "output_type": "stream",
          "text": [
            "Theta calculado a partir de la ecuación de la normal: [ 5.37655777e+06 -5.43319710e+03 -7.42193484e+01  1.66317036e+00\n",
            "  1.03664328e+00  5.85911076e+00 -3.20096992e+00  1.79568410e+02\n",
            " -3.92437478e-01 -6.43341899e+00 -1.09968339e+01  1.35001983e+00\n",
            "  5.29561446e+00 -3.38104278e-02 -6.25504739e-03 -5.88201032e-02\n",
            " -1.61974602e-02 -8.92712172e-02  9.47290767e-04  1.18712875e-01\n",
            "  2.63204287e-01]\n",
            "Real: 349.00 | Predicho: 168.36\n",
            "Real: 327.00 | Predicho: 171.88\n",
            "Real: 348.00 | Predicho: 189.44\n",
            "Real: 363.00 | Predicho: 179.31\n",
            "Real: 385.00 | Predicho: 161.43\n",
            "Real: 393.00 | Predicho: 161.61\n",
            "Real: 388.00 | Predicho: 165.88\n",
            "Real: 444.00 | Predicho: 162.00\n",
            "Real: 334.00 | Predicho: 167.89\n",
            "Real: 284.00 | Predicho: 168.20\n",
            "Real: 264.00 | Predicho: 164.93\n",
            "Real: 221.00 | Predicho: 167.84\n",
            "Real: 160.00 | Predicho: 174.64\n",
            "Real: 160.00 | Predicho: 175.18\n",
            "Real: 92.00 | Predicho: 146.19\n",
            "Real: 59.00 | Predicho: 130.96\n",
            "Real: 69.00 | Predicho: 129.16\n",
            "Real: 48.00 | Predicho: 119.99\n",
            "Real: 32.00 | Predicho: 114.70\n",
            "Real: 33.00 | Predicho: 109.01\n",
            "Real: 45.00 | Predicho: 115.27\n",
            "Real: 42.00 | Predicho: 120.28\n",
            "Real: 41.00 | Predicho: 121.07\n",
            "Real: 110.00 | Predicho: 122.67\n",
            "Real: 175.00 | Predicho: 146.70\n",
            "Real: 293.00 | Predicho: 153.66\n",
            "Real: 324.00 | Predicho: 172.47\n",
            "Real: 341.00 | Predicho: 185.85\n",
            "Real: 362.00 | Predicho: 172.84\n",
            "Real: 372.00 | Predicho: 176.58\n",
            "Real: 373.00 | Predicho: 171.91\n",
            "Real: 372.00 | Predicho: 175.60\n",
            "Real: 318.00 | Predicho: 173.60\n",
            "Real: 188.00 | Predicho: 174.24\n",
            "Real: 171.00 | Predicho: 173.39\n",
            "Real: 136.00 | Predicho: 177.51\n",
            "Real: 124.00 | Predicho: 177.02\n",
            "Real: 141.00 | Predicho: 179.62\n",
            "Real: 132.00 | Predicho: 157.02\n",
            "Real: 134.00 | Predicho: 150.92\n",
            "Real: 56.00 | Predicho: 132.44\n",
            "Real: 48.00 | Predicho: 117.43\n",
            "Real: 27.00 | Predicho: 109.26\n",
            "Real: 28.00 | Predicho: 107.28\n",
            "Real: 20.00 | Predicho: 98.15\n",
            "Real: 22.00 | Predicho: 100.18\n",
            "Real: 120.00 | Predicho: 126.39\n",
            "Real: 109.00 | Predicho: 144.45\n",
            "Real: 112.00 | Predicho: 164.83\n",
            "Real: 128.00 | Predicho: 159.76\n",
            "Real: 164.00 | Predicho: 177.31\n",
            "Real: 159.00 | Predicho: 176.84\n",
            "Real: 189.00 | Predicho: 153.21\n",
            "Real: 97.00 | Predicho: 146.56\n",
            "Real: 81.00 | Predicho: 152.23\n",
            "Real: 28.00 | Predicho: 143.26\n",
            "Real: 25.00 | Predicho: 151.70\n",
            "Real: 9.00 | Predicho: 145.10\n",
            "Real: 9.00 | Predicho: 134.40\n",
            "Real: 13.00 | Predicho: 151.93\n",
            "Real: 17.00 | Predicho: 125.78\n",
            "Real: 16.00 | Predicho: 132.79\n",
            "Real: 25.00 | Predicho: 116.32\n",
            "Real: 48.00 | Predicho: 106.28\n",
            "Real: 49.00 | Predicho: 105.53\n",
            "Real: 73.00 | Predicho: 110.90\n",
            "Real: 65.00 | Predicho: 118.15\n",
            "Real: 55.00 | Predicho: 120.44\n",
            "Real: 60.00 | Predicho: 123.27\n",
            "Real: 63.00 | Predicho: 124.85\n",
            "Real: 79.00 | Predicho: 139.91\n",
            "Real: 35.00 | Predicho: 159.37\n",
            "Real: 26.00 | Predicho: 137.12\n",
            "Real: 20.00 | Predicho: 127.84\n",
            "Real: 8.00 | Predicho: 55.12\n",
            "Real: 16.00 | Predicho: 48.10\n",
            "Real: 10.00 | Predicho: 47.49\n",
            "Real: 11.00 | Predicho: 49.87\n",
            "Real: 20.00 | Predicho: 56.42\n",
            "Real: 9.00 | Predicho: 50.58\n",
            "Real: 8.00 | Predicho: 31.62\n",
            "Real: 9.00 | Predicho: 16.28\n",
            "Real: 8.00 | Predicho: -8.90\n",
            "Real: 8.00 | Predicho: -7.85\n",
            "Real: 8.00 | Predicho: -7.73\n",
            "Real: 8.00 | Predicho: -13.53\n",
            "Real: 7.00 | Predicho: -16.38\n",
            "Real: 12.00 | Predicho: -16.02\n",
            "Real: 17.00 | Predicho: -16.96\n",
            "Real: 11.00 | Predicho: -55.44\n",
            "Real: 9.00 | Predicho: -58.08\n",
            "Real: 11.00 | Predicho: -48.36\n",
            "Real: 8.00 | Predicho: -18.04\n",
            "Real: 9.00 | Predicho: -10.15\n",
            "Real: 10.00 | Predicho: -6.03\n",
            "Real: 8.00 | Predicho: -18.44\n",
            "Real: 10.00 | Predicho: -5.72\n",
            "Real: 10.00 | Predicho: -4.63\n",
            "Real: 8.00 | Predicho: -0.49\n",
            "Real: 12.00 | Predicho: 5.81\n"
          ]
        }
      ],
      "source": [
        "# Calcula los parametros con la ecuación de la normal\n",
        "theta = normalEqn(X, y);\n",
        "\n",
        "# Muestra los resultados optenidos a partir de la aplicación de la ecuación de la normal\n",
        "print('Theta calculado a partir de la ecuación de la normal: {:s}'.format(str(theta)));\n",
        "\n",
        "# Estimar pm2.5 para los últimos 100 registros\n",
        "X_array = X[-100:]          # últimos 100 registros\n",
        "y_pred_last = np.dot(X_array, theta)\n",
        "\n",
        "# Mostrar primeras 10 predicciones\n",
        "for i in range(100):\n",
        "    print(f\"Real: {y[-100:][i]:.2f} | Predicho: {y_pred_last[i]:.2f}\")"
      ]
    }
  ],
  "metadata": {
    "colab": {
      "provenance": []
    },
    "kernelspec": {
      "display_name": "Python 3",
      "name": "python3"
    },
    "language_info": {
      "name": "python"
    }
  },
  "nbformat": 4,
  "nbformat_minor": 0
}
